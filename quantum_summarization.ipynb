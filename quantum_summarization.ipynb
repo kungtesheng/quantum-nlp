{
 "cells": [
  {
   "cell_type": "markdown",
   "metadata": {},
   "source": [
    "# 整数計画問題による複数文書要約モデル\n",
    "## McDonaldモデル\n",
    "次の目的関数の最小化を考える。\n",
    "\n",
    "**目的関数**\n",
    "$$f(q) = -\\sum_{i} r_{i}q_{i} + \\lambda \\sum_{i < j} s_{ij} q_{i}q_{j}$$\n",
    "\n",
    "**制約条件**\n",
    "$$\\sum_{i} c_{i} q_{i} \\leq K$$\n",
    "$$\\forall i, \\forall j, q_{i} q_{j}-q_{i} \\leq 0$$\n",
    "$$\\forall i, \\forall j, q_{i} q_{j}-q_{j} \\leq 0$$\n",
    "$$\\forall i, \\forall j, q_{i}+q_{j}-q_{i} q_{j} \\leq 1$$\n",
    "$$\\forall i, q_{i} \\in\\{0,1\\}$$\n",
    "\n",
    "**変数**  \n",
    "$q_{i}$: 文$i$が要約に含まれれば1、そうでなければ0  \n",
    "$K$: 許容される要約文の長さ  \n",
    "$c_{i}$: 文$i$の長さ  \n",
    "$r_{i}$: 文$i$と入力文書全体の類似度  \n",
    "$s_{ij}$: 文$i$と文$j$の類似度"
   ]
  },
  {
   "cell_type": "markdown",
   "metadata": {},
   "source": [
    "**QUBOの定式化**  \n",
    "要約文の長さに関する制約条件を罰金項の形で加える。\n",
    "$$f(q) = -\\sum_{i} r_{i}q_{i} + \\lambda_{1} \\sum_{i < j} s_{ij} q_{i}q_{j} + \\lambda_{2} \\sum_{i} \\left(c_{i}q_{i} - K \\right)^2$$\n",
    "\n",
    "あるいは、定式化の上で$K$を定めずに以下の最小化を考える。$\\lambda_{2}$を調整し、解の後処理として$\\sum_{i} c_{i} x_{i} \\leq K$となる解を選択すればよい。\n",
    "$$f(q) = -\\sum_{i} r_{i}q_{i} + \\lambda_{1} \\sum_{i < j} s_{ij} q_{i}q_{j} + \\lambda_{2} \\sum_{i} c_{i}q_{i}$$\n",
    "\n",
    "今回は多くの文を含む文章を扱うため、後者の定式化を採用する。"
   ]
  },
  {
   "cell_type": "markdown",
   "metadata": {},
   "source": [
    "# 実験\n",
    "以下、スティーブジョブスのスピーチを対象とした実験を行う。"
   ]
  },
  {
   "cell_type": "code",
   "execution_count": 1,
   "metadata": {
    "ExecuteTime": {
     "end_time": "2019-06-13T10:34:21.934201Z",
     "start_time": "2019-06-13T10:34:21.889066Z"
    }
   },
   "outputs": [],
   "source": [
    "original_text = \"\"\"I am honored to be with you today at your commencement from one of the finest universities in the world. I never graduated from college. Truth be told, this is the closest I've ever gotten to a college graduation. Today I want to tell you three stories from my life. That's it. No big deal. Just three stories. \n",
    "\n",
    "The first story is about connecting the dots. \n",
    "\n",
    "I dropped out of Reed College after the first 6 months, but then stayed around as a drop-in for another 18 months or so before I really quit. So why did I drop out? \n",
    "\n",
    "It started before I was born. My biological mother was a young, unwed college graduate student, and she decided to put me up for adoption. She felt very strongly that I should be adopted by college graduates, so everything was all set for me to be adopted at birth by a lawyer and his wife. Except that when I popped out they decided at the last minute that they really wanted a girl. So my parents, who were on a waiting list, got a call in the middle of the night asking: \"We have an unexpected baby boy; do you want him?\" They said: \"Of course.\" My biological mother later found out that my mother had never graduated from college and that my father had never graduated from high school. She refused to sign the final adoption papers. She only relented a few months later when my parents promised that I would someday go to college. \n",
    "\n",
    "And 17 years later I did go to college. But I naively chose a college that was almost as expensive as Stanford, and all of my working-class parents' savings were being spent on my college tuition. After six months, I couldn't see the value in it. I had no idea what I wanted to do with my life and no idea how college was going to help me figure it out. And here I was spending all of the money my parents had saved their entire life. So I decided to drop out and trust that it would all work out OK. It was pretty scary at the time, but looking back it was one of the best decisions I ever made. The minute I dropped out I could stop taking the required classes that didn't interest me, and begin dropping in on the ones that looked interesting. \n",
    "\n",
    "It wasn't all romantic. I didn't have a dorm room, so I slept on the floor in friends' rooms, I returned coke bottles for the 5 - deposits to buy food with, and I would walk the 7 miles across town every Sunday night to get one good meal a week at the Hare Krishna temple. I loved it. And much of what I stumbled into by following my curiosity and intuition turned out to be priceless later on. Let me give you one example: \n",
    "\n",
    "Reed College at that time offered perhaps the best calligraphy instruction in the country. Throughout the campus every poster, every label on every drawer, was beautifully hand calligraphed. Because I had dropped out and didn't have to take the normal classes, I decided to take a calligraphy class to learn how to do this. I learned about serif and san serif typefaces, about varying the amount of space between different letter combinations, about what makes great typography great. It was beautiful, historical, artistically subtle in a way that science can't capture, and I found it fascinating. \n",
    "\n",
    "None of this had even a hope of any practical application in my life. But ten years later, when we were designing the first Macintosh computer, it all came back to me. And we designed it all into the Mac. It was the first computer with beautiful typography. If I had never dropped in on that single course in college, the Mac would have never had multiple typefaces or proportionally spaced fonts. And since Windows just copied the Mac, it's likely that no personal computer would have them. If I had never dropped out, I would have never dropped in on this calligraphy class, and personal computers might not have the wonderful typography that they do. Of course it was impossible to connect the dots looking forward when I was in college. But it was very, very clear looking backwards ten years later. \n",
    "\n",
    "Again, you can't connect the dots looking forward; you can only connect them looking backwards. So you have to trust that the dots will somehow connect in your future. You have to trust in something - your gut, destiny, life, karma, whatever. This approach has never let me down, and it has made all the difference in my life. \n",
    "\n",
    "My second story is about love and loss. I was lucky I found what I loved to do early in life. Woz and I started Apple in my parents garage when I was 20. We worked hard, and in 10 years Apple had grown from just the two of us in a garage into a $2 billion company with over 4000 employees. We had just released our finest creation -the Macintosh- a year earlier, and I had just turned 30. And then I got fired. How can you get fired from a company you started? Well, as Apple grew we hired someone who I thought was very talented to run the company with me, and for the first year or so things went well. But then our visions of the future began to diverge and eventually we had a falling out. When we did, our Board of Directors sided with him. So at 30 I was out. And very publicly out. What had been the focus of my entire adult life was gone, and it was devastating. \n",
    "\n",
    "I really didn't know what to do for a few months. I felt that I had let the previous generation of entrepreneurs down - that I had dropped the baton as it was being passed to me. I met with David Packard and Bob Noyce and tried to apologize for screwing up so badly. I was a very public failure, and I even thought about running away from the valley. But something slowly began to dawn on me I still loved what I did. The turn of events at Apple had not changed that one bit. I had been rejected, but I was still in love. And so I decided to start over. \n",
    "\n",
    "I didn't see it then, but it turned out that getting fired from Apple was the best thing that could have ever happened to me. The heaviness of being successful was replaced by the lightness of being a beginner again, less sure about everything. It freed me to enter one of the most creative periods of my life. \n",
    "\n",
    "During the next five years, I started a company named NeXT, another company named Pixar, and fell in love with an amazing woman who would become my wife. Pixar went on to create the worlds first computer animated feature film, Toy Story, and is now the most successful animation studio in the world. In a remarkable turn of events, Apple bought NeXT, I returned to Apple, and the technology we developed at NeXT is at the heart of Apple's current renaissance. And Laurene and I have a wonderful family together. \n",
    "\n",
    "I'm pretty sure none of this would have happened if I hadn't been fired from Apple. It was awful tasting medicine, but I guess the patient needed it. Sometimes life hits you in the head with a brick. Don't lose faith. I'm convinced that the only thing that kept me going was that I loved what I did. You've got to find what you love. And that is as true for your work as it is for your lovers. Your work is going to fill a large part of your life, and the only way to be truly satisfied is to do what you believe is great work. And the only way to do great work is to love what you do. If you haven't found it yet, keep looking. Don't settle. As with all matters of the heart, you'll know when you find it. And, like any great relationship, it just gets better and better as the years roll on. So keep looking until you find it. Don't settle. \n",
    "\n",
    "My third story is about death. When I was 17, I read a quote that went something like: \"If you live each day as if it was your last, someday you'll most certainly be right.\" It made an impression on me, and since then, for the past 33 years, I have looked in the mirror every morning and asked myself: \"If today were the last day of my life, would I want to do what I am about to do today?\" And whenever the answer has been \"No\" for too many days in a row, I know I need to change something. \n",
    "\n",
    "Remembering that I'll be dead soon is the most important tool I've ever encountered to help me make the big choices in life. Because almost everything - all external expectations, all pride, all fear of embarrassment or failure - these things just fall away in the face of death, leaving only what is truly important. Remembering that you are going to die is the best way I know to avoid the trap of thinking you have something to lose. You are already naked. There is no reason not to follow your heart. \n",
    "\n",
    "About a year ago I was diagnosed with cancer. I had a scan at 7:30 in the morning, and it clearly showed a tumor on my pancreas. I didn't even know what a pancreas was. The doctors told me this was almost certainly a type of cancer that is incurable, and that I should expect to live no longer than three to six months. My doctor advised me to go home and get my affairs in order, which is doctor's code for prepare to die. It means to try to tell your kids everything you thought you'd have the next 10 years to tell them in just a few months. It means to make sure everything is buttoned up so that it will be as easy as possible for your family. It means to say your goodbyes. \n",
    "\n",
    "I lived with that diagnosis all day. Later that evening I had a biopsy, where they stuck an endoscope down my throat, through my stomach and into my intestines, put a needle into my pancreas and got a few cells from the tumor. I was sedated, but my wife, who was there, told me that when they viewed the cells under a microscope the doctors started crying because it turned out to be a very rare form of pancreatic cancer that is curable with surgery. I had the surgery and I'm fine now. \n",
    "\n",
    "This was the closest I've been to facing death, and I hope it's the closest I get for a few more decades. Having lived through it, I can now say this to you with a bit more certainty than when death was a useful but purely intellectual concept: \n",
    "\n",
    "No one wants to die. Even people who want to go to heaven don't want to die to get there. And yet death is the destination we all share. No one has ever escaped it. And that is as it should be, because Death is very likely the single best invention of Life. It is Life's change agent. It clears out the old to make way for the new. Right now the new is you, but someday not too long from now, you will gradually become the old and be cleared away. Sorry to be so dramatic, but it is quite true. \n",
    "\n",
    "Your time is limited, so don't waste it living someone else's life. Don't be trapped by dogma -which is living with the results of other people's thinking. Don't let the noise of others' opinions drown out your own inner voice. And most important, have the courage to follow your heart and intuition. They somehow already know what you truly want to become. Everything else is secondary. \n",
    "\n",
    "When I was young, there was an amazing publication called The Whole Earth Catalog, which was one of the bibles of my generation. It was created by a fellow named Stewart Brand not far from here in Menlo Park, and he brought it to life with his poetic touch. This was in the late 1960's, before personal computers and desktop publishing, so it was all made with typewriters, scissors, and polaroid cameras. It was sort of like Google in paperback form, 35 years before Google came along: it was idealistic, and overflowing with neat tools and great notions. \n",
    "\n",
    "Stewart and his team put out several issues of The Whole Earth Catalog, and then when it had run its course, they put out a final issue. It was the mid-1970s, and I was your age. On the back cover of their final issue was a photograph of an early morning country road, the kind you might find yourself hitchhiking on if you were so adventurous. Beneath it were the words: \"Stay Hungry. Stay Foolish.\" It was their farewell message as they signed off. Stay Hungry. Stay Foolish. And I have always wished that for myself. And now, as you graduate to begin anew, I wish that for you. \n",
    "\n",
    "Stay Hungry. Stay Foolish. \n",
    "\n",
    "Thank you all very much.\n",
    "\"\"\""
   ]
  },
  {
   "cell_type": "code",
   "execution_count": 2,
   "metadata": {
    "ExecuteTime": {
     "end_time": "2019-06-13T10:34:24.009147Z",
     "start_time": "2019-06-13T10:34:21.938621Z"
    }
   },
   "outputs": [],
   "source": [
    "from nltk.tokenize import sent_tokenize\n",
    "# import nltk\n",
    "# nltk.download('punkt')\n",
    "\n",
    "import numpy as np\n",
    "import matplotlib.pyplot as plt\n",
    "%matplotlib inline"
   ]
  },
  {
   "cell_type": "code",
   "execution_count": 3,
   "metadata": {
    "ExecuteTime": {
     "end_time": "2019-06-13T10:34:24.081610Z",
     "start_time": "2019-06-13T10:34:24.011801Z"
    },
    "code_folding": []
   },
   "outputs": [],
   "source": [
    "# 文章を文単位で分割する\n",
    "morphemes = sent_tokenize(original_text)\n",
    "\n",
    "# 単語に数値を割り当てる\n",
    "word2id = {}\n",
    "for line in morphemes:\n",
    "    for word in line.split():\n",
    "        if word in word2id:\n",
    "            continue\n",
    "        word2id[word] = len(word2id)\n",
    "\n",
    "# Bag of Words\n",
    "bow_set = []\n",
    "for line in morphemes:\n",
    "    bow = [0] * len(word2id)\n",
    "    for word in line.split():\n",
    "        try:\n",
    "            bow[word2id[word]] += 1\n",
    "        except:\n",
    "            pass\n",
    "    bow_set.append(bow)"
   ]
  },
  {
   "cell_type": "code",
   "execution_count": 4,
   "metadata": {
    "ExecuteTime": {
     "end_time": "2019-06-13T10:34:25.821238Z",
     "start_time": "2019-06-13T10:34:24.085017Z"
    }
   },
   "outputs": [],
   "source": [
    "def cos_sim(bow1, bow2):\n",
    "    \"\"\" コサイン類似度を求める \"\"\"\n",
    "    narr_bow1 = np.array(bow1)\n",
    "    narr_bow2 = np.array(bow2)\n",
    "    return np.sum(narr_bow1 * narr_bow2) / (np.linalg.norm(narr_bow1) * np.linalg.norm(narr_bow2))\n",
    "\n",
    "# それぞれの文の長さ\n",
    "sentence_lengths = [len(m) for m in morphemes]\n",
    "\n",
    "# 文章全体に対する類似度\n",
    "bow_all = np.sum(bow_set, axis=0)\n",
    "sim2all = [cos_sim(b, bow_all) for b in bow_set]\n",
    "\n",
    "# 文同士の類似度\n",
    "sim2each = [[cos_sim(b, c) if i < j else 0 for j, c in enumerate(bow_set)] for i, b in enumerate(bow_set)]"
   ]
  },
  {
   "cell_type": "code",
   "execution_count": 5,
   "metadata": {
    "ExecuteTime": {
     "end_time": "2019-06-13T10:34:25.919227Z",
     "start_time": "2019-06-13T10:34:25.824092Z"
    }
   },
   "outputs": [],
   "source": [
    "from pyqubo import *\n",
    "\n",
    "def normalize(exp):\n",
    "    \"\"\" 各制約項を正規化する関数 \"\"\"\n",
    "    qubo, offset = exp.compile().to_qubo()\n",
    "\n",
    "    max_coeff = abs(max(qubo.values()))\n",
    "    min_coeff = abs(min(qubo.values()))\n",
    "    norm = max_coeff if max_coeff - min_coeff > 0 else min_coeff\n",
    "\n",
    "    return exp / norm"
   ]
  },
  {
   "cell_type": "code",
   "execution_count": 6,
   "metadata": {
    "ExecuteTime": {
     "end_time": "2019-06-13T10:34:55.466116Z",
     "start_time": "2019-06-13T10:34:25.922113Z"
    }
   },
   "outputs": [],
   "source": [
    "num_var = len(morphemes)\n",
    "q = Array.create(name='q', shape=num_var, vartype='BINARY')\n",
    "\n",
    "H = - normalize(sum(sim2all[i] * q[i] for i in range(num_var))) \\\n",
    "    + Placeholder('sim') * normalize(sum(sim2each[i][j] * q[i] * q[j] for i in range(num_var) for j in range(i+1, num_var))) \\\n",
    "    + Placeholder('len') * normalize(sum(sentence_lengths[i] * q[i] for i in range(num_var)))\n",
    "\n",
    "model = H.compile()"
   ]
  },
  {
   "cell_type": "code",
   "execution_count": 25,
   "metadata": {
    "ExecuteTime": {
     "end_time": "2019-06-13T10:42:23.081079Z",
     "start_time": "2019-06-13T10:42:22.980068Z"
    }
   },
   "outputs": [],
   "source": [
    "feed_dict = {'sim': 1.0, 'len': 0.5}\n",
    "qubo, offset = model.to_qubo(feed_dict=feed_dict)"
   ]
  },
  {
   "cell_type": "code",
   "execution_count": 26,
   "metadata": {
    "ExecuteTime": {
     "end_time": "2019-06-13T10:42:24.689571Z",
     "start_time": "2019-06-13T10:42:24.682936Z"
    }
   },
   "outputs": [],
   "source": [
    "def show_qubo(qubo_, N):\n",
    "    import re\n",
    "\n",
    "    narr_qubo = np.zeros((N, N))\n",
    "    for pos, coeff in qubo_.items():\n",
    "        pos0 = int(re.search(r'.+\\[([0-9]+)\\]', pos[0]).group(1))\n",
    "        pos1 = int(re.search(r'.+\\[([0-9]+)\\]', pos[1]).group(1))\n",
    "        if pos0 < pos1:\n",
    "            narr_qubo[pos0][pos1] = coeff\n",
    "        else:\n",
    "            narr_qubo[pos1][pos0] = coeff\n",
    "\n",
    "    # 描画\n",
    "    plt.imshow(narr_qubo, cmap=\"GnBu\")\n",
    "    plt.colorbar()\n",
    "    plt.show()"
   ]
  },
  {
   "cell_type": "code",
   "execution_count": 27,
   "metadata": {
    "ExecuteTime": {
     "end_time": "2019-06-13T10:42:25.129668Z",
     "start_time": "2019-06-13T10:42:24.841763Z"
    }
   },
   "outputs": [
    {
     "data": {
      "image/png": "[encoded data removed]",
      "text/plain": [
       "<Figure size 432x288 with 2 Axes>"
      ]
     },
     "metadata": {
      "needs_background": "light"
     },
     "output_type": "display_data"
    }
   ],
   "source": [
    "show_qubo(qubo, num_var)"
   ]
  },
  {
   "cell_type": "code",
   "execution_count": 28,
   "metadata": {
    "ExecuteTime": {
     "end_time": "2019-06-13T10:42:25.135577Z",
     "start_time": "2019-06-13T10:42:25.132368Z"
    }
   },
   "outputs": [],
   "source": [
    "from dwave_qbsolv import QBSolv"
   ]
  },
  {
   "cell_type": "code",
   "execution_count": 29,
   "metadata": {
    "ExecuteTime": {
     "end_time": "2019-06-13T10:42:26.496496Z",
     "start_time": "2019-06-13T10:42:25.138476Z"
    }
   },
   "outputs": [],
   "source": [
    "response = QBSolv().sample_qubo(qubo, num_reads=10)"
   ]
  },
  {
   "cell_type": "code",
   "execution_count": 30,
   "metadata": {
    "ExecuteTime": {
     "end_time": "2019-06-13T10:42:26.514460Z",
     "start_time": "2019-06-13T10:42:26.498623Z"
    }
   },
   "outputs": [],
   "source": [
    "solution_list = []\n",
    "summarized_text_list = []\n",
    "for i, sample in enumerate(response.samples()):\n",
    "    solution_list.append([sample['q[{}]'.format(i)] for i in range(num_var)])\n",
    "    summarized_text_list.append(\" \".join([morphemes[i] for i, s in enumerate(solution_list[-1]) if s == 1]))"
   ]
  },
  {
   "cell_type": "code",
   "execution_count": 31,
   "metadata": {
    "ExecuteTime": {
     "end_time": "2019-06-13T10:42:26.529954Z",
     "start_time": "2019-06-13T10:42:26.520843Z"
    }
   },
   "outputs": [
    {
     "name": "stdout",
     "output_type": "stream",
     "text": [
      "I never graduated from college. None of this had even a hope of any practical application in my life. Don't settle. My third story is about death. Even people who want to go to heaven don't want to die to get there. No one has ever escaped it. It was the mid-1970s, and I was your age. Beneath it were the words: \"Stay Hungry. Stay Foolish. And I have always wished that for myself. Thank you all very much.\n"
     ]
    }
   ],
   "source": [
    "print(summarized_text_list[0])"
   ]
  },
  {
   "cell_type": "code",
   "execution_count": null,
   "metadata": {},
   "outputs": [],
   "source": []
  }
 ],
 "metadata": {
  "kernelspec": {
   "display_name": "Python3",
   "language": "python",
   "name": "python3"
  },
  "language_info": {
   "codemirror_mode": {
    "name": "ipython",
    "version": 3
   },
   "file_extension": ".py",
   "mimetype": "text/x-python",
   "name": "python",
   "nbconvert_exporter": "python",
   "pygments_lexer": "ipython3",
   "version": "3.7.0"
  },
  "toc": {
   "base_numbering": 1,
   "nav_menu": {},
   "number_sections": true,
   "sideBar": true,
   "skip_h1_title": false,
   "title_cell": "Table of Contents",
   "title_sidebar": "Contents",
   "toc_cell": false,
   "toc_position": {},
   "toc_section_display": true,
   "toc_window_display": false
  }
 },
 "nbformat": 4,
 "nbformat_minor": 2
}
